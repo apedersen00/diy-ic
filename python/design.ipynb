{
 "cells": [
  {
   "cell_type": "markdown",
   "id": "1d6893ab",
   "metadata": {},
   "source": [
    "# Design and Sizing"
   ]
  },
  {
   "cell_type": "markdown",
   "id": "b45e17a3",
   "metadata": {},
   "source": [
    "## Imports"
   ]
  },
  {
   "cell_type": "code",
   "execution_count": null,
   "id": "2e13786c",
   "metadata": {},
   "outputs": [],
   "source": [
    "import os\n",
    "import sys\n",
    "\n",
    "import numpy as np\n",
    "import matplotlib.pyplot as plt\n",
    "import pandas as pd\n",
    "import sympy as sp\n",
    "\n",
    "from tabulate import tabulate\n",
    "\n",
    "sys.path.append(os.path.abspath(\"..\"))\n",
    "from pyIC.utils import IcUtils as ic"
   ]
  },
  {
   "cell_type": "markdown",
   "id": "b1b5ec72",
   "metadata": {},
   "source": [
    "## Gain\n",
    "\n",
    "Gain is given by the transconductance of the input pair multiplied by the output resistance, $R_O$, given by the parallel $r_O$ of the cascode N and P \"arms\".\n",
    "\n",
    "$$ A_V = g_{m1,2} R_O, \\hspace{20pt} R_O = R_P || R_N $$\n",
    "\n",
    "Equivalent output resistance of a cascode pair where $M_2$ is the \"upper\" device:\n",
    "\n",
    "$$ R_{N,P} = (1 + g_{m2} r_{O2}) r_{O1} + r_{O2} $$ "
   ]
  },
  {
   "cell_type": "code",
   "execution_count": null,
   "id": "c60c0544",
   "metadata": {},
   "outputs": [],
   "source": [
    "gm2_p   = 1.6e-3\n",
    "ro2_p   = 1 / 4.2e-6\n",
    "ro1_p   = 1 / 7e-6\n",
    "\n",
    "gm2_n   = 2.1e-3\n",
    "ro2_n   = 1 / 7.1e-6\n",
    "ro1_n   = 1 / 6e-6\n",
    "\n",
    "RO_eq = (1 / (ro2_p * ro1_p * gm2_p) + 1 / (ro2_n * ro1_n * gm2_n))**(-1)\n",
    "\n",
    "print(f'RO_eq: {ic.eng_format(RO_eq)}')\n",
    "\n",
    "gm1     = 6e-3\n",
    "gain    = ic.gain2db(RO_eq * gm1)\n",
    "print(f'Gain: {gain}')"
   ]
  },
  {
   "cell_type": "code",
   "execution_count": null,
   "id": "34537fb3",
   "metadata": {},
   "outputs": [],
   "source": [
    "gm2_p   = 1.6e-3\n",
    "ro2_p   = 1 / 4.2e-6\n",
    "ro1_p   = 1 / 7e-6\n",
    "RO_p    = (1 + gm2_p * ro2_p) * ro1_p + ro2_p\n",
    "\n",
    "gm2_n   = 2.1e-3\n",
    "ro2_n   = 1 / 7.1e-6\n",
    "ro1_n   = 1 / 6e-6\n",
    "RO_n    = (1 + gm2_n * ro2_n) * ro1_n + ro2_n\n",
    "\n",
    "print(f'RO_p: {ic.eng_format(RO_p)}')\n",
    "print(f'RO_n: {ic.eng_format(RO_n)}')\n",
    "\n",
    "RO_eq = (RO_p * RO_n) / (RO_p + RO_n)\n",
    "\n",
    "print(f'RO_eq: {ic.eng_format(RO_eq)}')\n",
    "\n",
    "gm1     = 6e-3\n",
    "gain    = ic.gain2db(RO_eq * gm1)\n",
    "print(f'Gain: {gain}')"
   ]
  },
  {
   "cell_type": "code",
   "execution_count": null,
   "id": "e2c2d672",
   "metadata": {},
   "outputs": [],
   "source": [
    "gm_p    = 2e-3\n",
    "ro_p    = 1 / 6e-6\n",
    "RO_p    = (1 + gm_p * ro_p) * ro_p + ro_p\n",
    "ic.eng_format(RO_p)"
   ]
  },
  {
   "cell_type": "code",
   "execution_count": null,
   "id": "b3253b8d",
   "metadata": {},
   "outputs": [],
   "source": [
    "gm_n    = 2e-3\n",
    "ro_n    = 1 / 7e-6\n",
    "RO_n    = (1 + gm_n * ro_n) * ro_n + ro_n\n",
    "ic.eng_format(RO_n)"
   ]
  },
  {
   "cell_type": "code",
   "execution_count": null,
   "id": "a8d21036",
   "metadata": {},
   "outputs": [],
   "source": [
    "RO_eq = (RO_p * RO_n) / (RO_p + RO_n)\n",
    "ic.eng_format(ic.gain2db(RO_eq * 6e-3))"
   ]
  },
  {
   "cell_type": "code",
   "execution_count": null,
   "id": "717cf1c6",
   "metadata": {},
   "outputs": [],
   "source": [
    "## --- Parameters ---\n",
    "gmid1   = 13    # Input pair\n",
    "gmid_p  = 3     # cascode pmos\n",
    "gain_p  = 100\n",
    "gmid_n  = 5     # cascode nmos\n",
    "\n",
    "Av_db   = 100\n",
    "Av      = ic.db2gain(Av_db)\n",
    "\n",
    "# Load (buffer stage)\n",
    "C_L     = 2 * 100e-15\n",
    "\n",
    "# Required GBW (assuming single-pole)\n",
    "GBW_min = 50e3 * Av\n",
    "\n",
    "## --- Calculations ---\n",
    "# Required gm1 for GBW\n",
    "gm1_min = GBW_min * 2 * np.pi * C_L\n",
    "\n",
    "# Required Ro\n",
    "Ro_req  = Av / gm1_min\n",
    "\n",
    "# Dominant pole\n",
    "fp1     = 1 / (2 * np.pi * Ro_req * C_L)\n",
    "\n",
    "# Required ID for min gm1\n",
    "id1_min = gm1_min / gmid1\n",
    "\n",
    "gm_p    = id1_min / gmid_p\n",
    "ro_p    = gain_p / gm_p\n",
    "RO_p    = (1 + gm_p * ro_p) * ro_p + ro_p\n",
    "\n",
    "## --- Printing ---\n",
    "table = [\n",
    "    ['Ro_req'       , ic.eng_format(Ro_req)],\n",
    "    ['Min GBW'      , ic.eng_format(GBW_min)],\n",
    "    ['Dom pole'     , ic.eng_format(fp1)],\n",
    "    ['Required gm1' , ic.eng_format(gm1_min)], \n",
    "    ['Min ID1'      , ic.eng_format(id1_min)],\n",
    "    ['RO P-arm'     , ic.eng_format(RO_p)],\n",
    "]\n",
    "\n",
    "print(tabulate(table, tablefmt='rounded_outline', disable_numparse=True, colalign=['left', 'right']))"
   ]
  },
  {
   "cell_type": "code",
   "execution_count": null,
   "id": "1dd7359a",
   "metadata": {},
   "outputs": [],
   "source": [
    "## gm/id = 3, L = 1u\n",
    "Cgg = sp.Symbol('Cgg')\n",
    "eq = (5 * 0.5e-3) / (2 * np.pi * Cgg) - 3.73e9\n",
    "sp.solve(eq)"
   ]
  },
  {
   "cell_type": "markdown",
   "id": "d5e79458",
   "metadata": {},
   "source": [
    "### Input pair\n",
    "- gmid = 13\n",
    "- vgs  = 0.710 V\n",
    "- ft   = 0.98  GHz\n",
    "- W    = 441 u\n",
    "- L    = 1 u\n",
    "\n",
    "### Tail Source\n",
    "- gmid = 5\n",
    "- vgs  = 0.980\n",
    "- gain = 57.2\n",
    "- ft   = 2.59 G\n",
    "- W    = 112\n",
    "- L    = 1\n",
    "\n",
    "### P-arm\n",
    "- gmid = 3\n",
    "- vgs  = 1.29\n",
    "- gain = 100\n",
    "- ft   = 0.95 G\n",
    "- W    = 149\n",
    "- L    = 1"
   ]
  },
  {
   "cell_type": "code",
   "execution_count": null,
   "id": "6b41c0c9",
   "metadata": {},
   "outputs": [],
   "source": []
  }
 ],
 "metadata": {
  "kernelspec": {
   "display_name": "ic-python-py3.13",
   "language": "python",
   "name": "python3"
  },
  "language_info": {
   "codemirror_mode": {
    "name": "ipython",
    "version": 3
   },
   "file_extension": ".py",
   "mimetype": "text/x-python",
   "name": "python",
   "nbconvert_exporter": "python",
   "pygments_lexer": "ipython3",
   "version": "3.13.5"
  }
 },
 "nbformat": 4,
 "nbformat_minor": 5
}
