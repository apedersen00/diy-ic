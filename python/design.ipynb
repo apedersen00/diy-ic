{
 "cells": [
  {
   "cell_type": "markdown",
   "id": "1d6893ab",
   "metadata": {},
   "source": [
    "# Design and Sizing"
   ]
  },
  {
   "cell_type": "markdown",
   "id": "b45e17a3",
   "metadata": {},
   "source": [
    "## Imports"
   ]
  },
  {
   "cell_type": "code",
   "execution_count": null,
   "id": "2e13786c",
   "metadata": {},
   "outputs": [],
   "source": [
    "import os\n",
    "import sys\n",
    "\n",
    "import numpy as np\n",
    "import matplotlib.pyplot as plt\n",
    "import pandas as pd\n",
    "import sympy as sp\n",
    "\n",
    "from tabulate import tabulate\n",
    "\n",
    "sys.path.append(os.path.abspath(\"..\"))\n",
    "from pyIC.utils import IcUtils as ic"
   ]
  },
  {
   "cell_type": "markdown",
   "id": "b1b5ec72",
   "metadata": {},
   "source": [
    "## Gain\n",
    "\n",
    "Gain is given by the transconductance of the input pair multiplied by the output resistance, $R_O$, given by the parallel $r_O$ of the cascode N and P \"arms\".\n",
    "\n",
    "$$ A_V = g_{m1,2} R_O, \\hspace{20pt} R_O = R_P || R_N $$\n",
    "\n",
    "Equivalent output resistance of a cascode pair where $M_2$ is the \"upper\" device:\n",
    "\n",
    "$$ R_{N,P} = (1 + g_{m2} r_{O2}) r_{O1} + r_{O2} $$ "
   ]
  },
  {
   "cell_type": "code",
   "execution_count": null,
   "id": "717cf1c6",
   "metadata": {},
   "outputs": [],
   "source": [
    "## --- Parameters ---\n",
    "gmid1   = 20\n",
    "gmid2   = 20\n",
    "gm1     = 1e-3\n",
    "gm2     = 1e-3\n",
    "gmro1   = 6000\n",
    "gmro2   = 6000\n",
    "id1     = 1e-3\n",
    "id2     = 1e-3\n",
    "\n",
    "Av_db   = 120\n",
    "Av      = 10**(120/20)\n",
    "\n",
    "# Load (IRFZ24N CGS = 500fF)\n",
    "C_L     = 2 * 100e-12\n",
    "\n",
    "# Required GBW (assuming single-pole)\n",
    "GBW_min = (50e3 / (2 * np.pi)) * ic.db2gain(80)\n",
    "\n",
    "## --- Calculations ---\n",
    "# Required Ro\n",
    "Ro_req  = Av / gm1\n",
    "\n",
    "# Required gm1 for GBW\n",
    "gm1_min = GBW_min * 2 * np.pi * C_L\n",
    "\n",
    "# Actual GBW\n",
    "GBW     = gm1 / (2 * np.pi * C_L)\n",
    "\n",
    "## --- Printing ---\n",
    "table = [\n",
    "    ['Ro_req'       , ic.eng_format(Ro_req)],\n",
    "    ['Min GBW'      , ic.eng_format(GBW_min)],\n",
    "    ['Required gm1' , ic.eng_format(gm1_min)],\n",
    "    ['Actual GBW'   , ic.eng_format(GBW)],\n",
    "]\n",
    "\n",
    "print(tabulate(table, tablefmt='rounded_outline', disable_numparse=True, colalign=['right', 'right']))"
   ]
  }
 ],
 "metadata": {
  "kernelspec": {
   "display_name": "ic-python-py3.13",
   "language": "python",
   "name": "python3"
  },
  "language_info": {
   "codemirror_mode": {
    "name": "ipython",
    "version": 3
   },
   "file_extension": ".py",
   "mimetype": "text/x-python",
   "name": "python",
   "nbconvert_exporter": "python",
   "pygments_lexer": "ipython3",
   "version": "3.13.5"
  }
 },
 "nbformat": 4,
 "nbformat_minor": 5
}
