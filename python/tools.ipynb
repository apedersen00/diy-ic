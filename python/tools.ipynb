{
 "cells": [
  {
   "cell_type": "markdown",
   "id": "7aaa7d2e",
   "metadata": {},
   "source": [
    "# Tools\n",
    "\n",
    "## Imports"
   ]
  },
  {
   "cell_type": "code",
   "execution_count": 1,
   "id": "288eab6f",
   "metadata": {},
   "outputs": [],
   "source": [
    "import os\n",
    "import sys\n",
    "\n",
    "sys.path.append(os.path.abspath(\"..\"))\n",
    "from pyIC.ic_utils import IcUtils as ic\n",
    "from pyIC.xschem_utils import XschemUtils as xschem"
   ]
  },
  {
   "cell_type": "code",
   "execution_count": 2,
   "id": "3165dfeb",
   "metadata": {},
   "outputs": [],
   "source": [
    "rename = {\n",
    "    'M1':   'M1',\n",
    "    'M2':   'M2',\n",
    "    'M4':   'M3',\n",
    "    'M8':   'M4',\n",
    "    'M3':   'M5',\n",
    "    'M10':  'M6',\n",
    "    'M11':  'M7',\n",
    "    'M12':  'M8',\n",
    "    'M6':   'M12',\n",
    "    'M5':   'M11',\n",
    "    'M14':  'M10',\n",
    "    'M13':  'M9',\n",
    "}\n",
    "\n",
    "file = '../schematic/two_stage.sch'\n",
    "\n",
    "xschem.rename_annotations(file, rename)"
   ]
  }
 ],
 "metadata": {
  "kernelspec": {
   "display_name": "ic-python-py3.13",
   "language": "python",
   "name": "python3"
  },
  "language_info": {
   "codemirror_mode": {
    "name": "ipython",
    "version": 3
   },
   "file_extension": ".py",
   "mimetype": "text/x-python",
   "name": "python",
   "nbconvert_exporter": "python",
   "pygments_lexer": "ipython3",
   "version": "3.13.5"
  }
 },
 "nbformat": 4,
 "nbformat_minor": 5
}
